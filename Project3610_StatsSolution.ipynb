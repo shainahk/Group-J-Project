{
 "cells": [
  {
   "cell_type": "markdown",
   "id": "98c8a2f7",
   "metadata": {},
   "source": [
    "# Importing the dataset"
   ]
  },
  {
   "cell_type": "code",
   "execution_count": 1,
   "id": "6c83c4db",
   "metadata": {},
   "outputs": [],
   "source": [
    "import numpy as np\n",
    "import pandas as pd\n",
    "import matplotlib.pyplot as plt\n",
    "import seaborn as sns"
   ]
  },
  {
   "cell_type": "code",
   "execution_count": 2,
   "id": "788f3b76",
   "metadata": {},
   "outputs": [],
   "source": [
    "df = pd.read_csv('car_prices.csv')"
   ]
  },
  {
   "cell_type": "markdown",
   "id": "a766a6ca",
   "metadata": {},
   "source": [
    "# Learning the dataset"
   ]
  },
  {
   "cell_type": "code",
   "execution_count": 3,
   "id": "7fdf59bb",
   "metadata": {},
   "outputs": [
    {
     "data": {
      "text/html": [
       "<div>\n",
       "<style scoped>\n",
       "    .dataframe tbody tr th:only-of-type {\n",
       "        vertical-align: middle;\n",
       "    }\n",
       "\n",
       "    .dataframe tbody tr th {\n",
       "        vertical-align: top;\n",
       "    }\n",
       "\n",
       "    .dataframe thead th {\n",
       "        text-align: right;\n",
       "    }\n",
       "</style>\n",
       "<table border=\"1\" class=\"dataframe\">\n",
       "  <thead>\n",
       "    <tr style=\"text-align: right;\">\n",
       "      <th></th>\n",
       "      <th>year</th>\n",
       "      <th>make</th>\n",
       "      <th>model</th>\n",
       "      <th>trim</th>\n",
       "      <th>body</th>\n",
       "      <th>transmission</th>\n",
       "      <th>vin</th>\n",
       "      <th>state</th>\n",
       "      <th>condition</th>\n",
       "      <th>odometer</th>\n",
       "      <th>color</th>\n",
       "      <th>interior</th>\n",
       "      <th>seller</th>\n",
       "      <th>mmr</th>\n",
       "      <th>sellingprice</th>\n",
       "      <th>saledate</th>\n",
       "    </tr>\n",
       "  </thead>\n",
       "  <tbody>\n",
       "    <tr>\n",
       "      <th>0</th>\n",
       "      <td>2015</td>\n",
       "      <td>Kia</td>\n",
       "      <td>Sorento</td>\n",
       "      <td>LX</td>\n",
       "      <td>SUV</td>\n",
       "      <td>automatic</td>\n",
       "      <td>5xyktca69fg566472</td>\n",
       "      <td>ca</td>\n",
       "      <td>5.0</td>\n",
       "      <td>16639.0</td>\n",
       "      <td>white</td>\n",
       "      <td>black</td>\n",
       "      <td>kia motors america  inc</td>\n",
       "      <td>20500.0</td>\n",
       "      <td>21500.0</td>\n",
       "      <td>Tue Dec 16 2014 12:30:00 GMT-0800 (PST)</td>\n",
       "    </tr>\n",
       "    <tr>\n",
       "      <th>1</th>\n",
       "      <td>2015</td>\n",
       "      <td>Kia</td>\n",
       "      <td>Sorento</td>\n",
       "      <td>LX</td>\n",
       "      <td>SUV</td>\n",
       "      <td>automatic</td>\n",
       "      <td>5xyktca69fg561319</td>\n",
       "      <td>ca</td>\n",
       "      <td>5.0</td>\n",
       "      <td>9393.0</td>\n",
       "      <td>white</td>\n",
       "      <td>beige</td>\n",
       "      <td>kia motors america  inc</td>\n",
       "      <td>20800.0</td>\n",
       "      <td>21500.0</td>\n",
       "      <td>Tue Dec 16 2014 12:30:00 GMT-0800 (PST)</td>\n",
       "    </tr>\n",
       "    <tr>\n",
       "      <th>2</th>\n",
       "      <td>2014</td>\n",
       "      <td>BMW</td>\n",
       "      <td>3 Series</td>\n",
       "      <td>328i SULEV</td>\n",
       "      <td>Sedan</td>\n",
       "      <td>automatic</td>\n",
       "      <td>wba3c1c51ek116351</td>\n",
       "      <td>ca</td>\n",
       "      <td>45.0</td>\n",
       "      <td>1331.0</td>\n",
       "      <td>gray</td>\n",
       "      <td>black</td>\n",
       "      <td>financial services remarketing (lease)</td>\n",
       "      <td>31900.0</td>\n",
       "      <td>30000.0</td>\n",
       "      <td>Thu Jan 15 2015 04:30:00 GMT-0800 (PST)</td>\n",
       "    </tr>\n",
       "  </tbody>\n",
       "</table>\n",
       "</div>"
      ],
      "text/plain": [
       "   year make     model        trim   body transmission                vin  \\\n",
       "0  2015  Kia   Sorento          LX    SUV    automatic  5xyktca69fg566472   \n",
       "1  2015  Kia   Sorento          LX    SUV    automatic  5xyktca69fg561319   \n",
       "2  2014  BMW  3 Series  328i SULEV  Sedan    automatic  wba3c1c51ek116351   \n",
       "\n",
       "  state  condition  odometer  color interior  \\\n",
       "0    ca        5.0   16639.0  white    black   \n",
       "1    ca        5.0    9393.0  white    beige   \n",
       "2    ca       45.0    1331.0   gray    black   \n",
       "\n",
       "                                   seller      mmr  sellingprice  \\\n",
       "0                 kia motors america  inc  20500.0       21500.0   \n",
       "1                 kia motors america  inc  20800.0       21500.0   \n",
       "2  financial services remarketing (lease)  31900.0       30000.0   \n",
       "\n",
       "                                  saledate  \n",
       "0  Tue Dec 16 2014 12:30:00 GMT-0800 (PST)  \n",
       "1  Tue Dec 16 2014 12:30:00 GMT-0800 (PST)  \n",
       "2  Thu Jan 15 2015 04:30:00 GMT-0800 (PST)  "
      ]
     },
     "execution_count": 3,
     "metadata": {},
     "output_type": "execute_result"
    }
   ],
   "source": [
    "df.head(3)"
   ]
  },
  {
   "cell_type": "code",
   "execution_count": 4,
   "id": "06ecf3f6",
   "metadata": {},
   "outputs": [
    {
     "name": "stdout",
     "output_type": "stream",
     "text": [
      "<class 'pandas.core.frame.DataFrame'>\n",
      "RangeIndex: 558837 entries, 0 to 558836\n",
      "Data columns (total 16 columns):\n",
      " #   Column        Non-Null Count   Dtype  \n",
      "---  ------        --------------   -----  \n",
      " 0   year          558837 non-null  int64  \n",
      " 1   make          548536 non-null  object \n",
      " 2   model         548438 non-null  object \n",
      " 3   trim          548186 non-null  object \n",
      " 4   body          545642 non-null  object \n",
      " 5   transmission  493485 non-null  object \n",
      " 6   vin           558833 non-null  object \n",
      " 7   state         558837 non-null  object \n",
      " 8   condition     547017 non-null  float64\n",
      " 9   odometer      558743 non-null  float64\n",
      " 10  color         558088 non-null  object \n",
      " 11  interior      558088 non-null  object \n",
      " 12  seller        558837 non-null  object \n",
      " 13  mmr           558799 non-null  float64\n",
      " 14  sellingprice  558825 non-null  float64\n",
      " 15  saledate      558825 non-null  object \n",
      "dtypes: float64(4), int64(1), object(11)\n",
      "memory usage: 68.2+ MB\n"
     ]
    }
   ],
   "source": [
    "df.info()"
   ]
  },
  {
   "cell_type": "code",
   "execution_count": 5,
   "id": "a63a443e",
   "metadata": {
    "scrolled": true
   },
   "outputs": [
    {
     "data": {
      "text/plain": [
       "make\n",
       "Ford          93554\n",
       "Chevrolet     60197\n",
       "Nissan        53946\n",
       "Toyota        39871\n",
       "Dodge         30710\n",
       "              ...  \n",
       "airstream         1\n",
       "ford tk           1\n",
       "chev truck        1\n",
       "hyundai tk        1\n",
       "Lotus             1\n",
       "Name: count, Length: 96, dtype: int64"
      ]
     },
     "execution_count": 5,
     "metadata": {},
     "output_type": "execute_result"
    }
   ],
   "source": [
    "#df['year'].value_counts()\n",
    "df['make'].value_counts()"
   ]
  },
  {
   "cell_type": "code",
   "execution_count": 6,
   "id": "246646b0",
   "metadata": {
    "scrolled": true
   },
   "outputs": [
    {
     "data": {
      "text/plain": [
       "body\n",
       "Sedan          199437\n",
       "SUV            119292\n",
       "sedan           41906\n",
       "suv             24552\n",
       "Hatchback       21380\n",
       "                ...  \n",
       "cab plus 4          1\n",
       "g37 coupe           1\n",
       "CTS-V Wagon         1\n",
       "Ram Van             1\n",
       "cts wagon           1\n",
       "Name: count, Length: 87, dtype: int64"
      ]
     },
     "execution_count": 6,
     "metadata": {},
     "output_type": "execute_result"
    }
   ],
   "source": [
    "df['body'].value_counts()"
   ]
  },
  {
   "cell_type": "code",
   "execution_count": 7,
   "id": "021344d5",
   "metadata": {
    "scrolled": true
   },
   "outputs": [
    {
     "data": {
      "text/plain": [
       "state\n",
       "fl                   82945\n",
       "ca                   73148\n",
       "pa                   53907\n",
       "tx                   45913\n",
       "ga                   34750\n",
       "                     ...  \n",
       "3vwd17aj2fm285365        1\n",
       "3vwd17aj3fm276741        1\n",
       "3vwd17aj2fm258506        1\n",
       "3vwd17aj4fm201708        1\n",
       "3vwd17aj2fm261566        1\n",
       "Name: count, Length: 64, dtype: int64"
      ]
     },
     "execution_count": 7,
     "metadata": {},
     "output_type": "execute_result"
    }
   ],
   "source": [
    "df['state'].value_counts()"
   ]
  },
  {
   "cell_type": "code",
   "execution_count": 8,
   "id": "0f3f7024",
   "metadata": {
    "scrolled": true
   },
   "outputs": [
    {
     "data": {
      "text/plain": [
       "transmission\n",
       "automatic    475915\n",
       "manual        17544\n",
       "sedan            15\n",
       "Sedan            11\n",
       "Name: count, dtype: int64"
      ]
     },
     "execution_count": 8,
     "metadata": {},
     "output_type": "execute_result"
    }
   ],
   "source": [
    "df['transmission'].value_counts()"
   ]
  },
  {
   "cell_type": "code",
   "execution_count": 9,
   "id": "65d434cd",
   "metadata": {},
   "outputs": [
    {
     "data": {
      "text/plain": [
       "sellingprice\n",
       "11000.0     4453\n",
       "12000.0     4450\n",
       "13000.0     4334\n",
       "10000.0     4029\n",
       "14000.0     3899\n",
       "            ... \n",
       "28350.0        1\n",
       "30201.0        1\n",
       "131500.0       1\n",
       "31550.0        1\n",
       "27840.0        1\n",
       "Name: count, Length: 1887, dtype: int64"
      ]
     },
     "execution_count": 9,
     "metadata": {},
     "output_type": "execute_result"
    }
   ],
   "source": [
    "df['sellingprice'].value_counts()"
   ]
  },
  {
   "cell_type": "code",
   "execution_count": 10,
   "id": "8e396bae",
   "metadata": {},
   "outputs": [
    {
     "data": {
      "text/plain": [
       "mmr\n",
       "12500.0     1761\n",
       "11600.0     1751\n",
       "11650.0     1746\n",
       "12150.0     1722\n",
       "11850.0     1717\n",
       "            ... \n",
       "172000.0       1\n",
       "134000.0       1\n",
       "113000.0       1\n",
       "154000.0       1\n",
       "164000.0       1\n",
       "Name: count, Length: 1101, dtype: int64"
      ]
     },
     "execution_count": 10,
     "metadata": {},
     "output_type": "execute_result"
    }
   ],
   "source": [
    "df['mmr'].value_counts()"
   ]
  },
  {
   "cell_type": "markdown",
   "id": "674baa38",
   "metadata": {},
   "source": [
    "#### Here we can see that there are values in the \"transmission\" column which do not make sense; a sedan is a the body of the vehicle and can be either manual or automatic. Considering that the dataset is so large we can afford to drop those rows with an incorrect value for the \"transmission\" column. There are still rows with empty cells so part of the preprocessing would be to populate those cells with null values and then remove later. \n",
    "\n",
    "#### Here we see that some values in the \"state\" column are out of place, we can remove those rows. "
   ]
  },
  {
   "cell_type": "markdown",
   "id": "65aab6a8",
   "metadata": {},
   "source": [
    "# Data Preprocessing "
   ]
  },
  {
   "cell_type": "markdown",
   "id": "1b9183b6",
   "metadata": {},
   "source": [
    "#### Firstly, we remove all the column which we are not using in the dataset. These include: model,trim , vin, condition, odometer, color , interior and saledate ."
   ]
  },
  {
   "cell_type": "code",
   "execution_count": 11,
   "id": "e5627c81",
   "metadata": {},
   "outputs": [],
   "source": [
    "#code\n",
    "df.drop('model', axis=1, inplace=True)\n",
    "df.drop('trim', axis=1,inplace=True)\n",
    "df.drop('vin', axis=1,inplace=True)\n",
    "df.drop('condition', axis=1,inplace=True)\n",
    "df.drop('odometer', axis=1,inplace=True)\n",
    "df.drop('color', axis=1,inplace=True)\n",
    "df.drop('interior', axis=1,inplace=True)"
   ]
  },
  {
   "cell_type": "code",
   "execution_count": 12,
   "id": "0a475005",
   "metadata": {},
   "outputs": [
    {
     "name": "stdout",
     "output_type": "stream",
     "text": [
      "<class 'pandas.core.frame.DataFrame'>\n",
      "RangeIndex: 558837 entries, 0 to 558836\n",
      "Data columns (total 9 columns):\n",
      " #   Column        Non-Null Count   Dtype  \n",
      "---  ------        --------------   -----  \n",
      " 0   year          558837 non-null  int64  \n",
      " 1   make          548536 non-null  object \n",
      " 2   body          545642 non-null  object \n",
      " 3   transmission  493485 non-null  object \n",
      " 4   state         558837 non-null  object \n",
      " 5   seller        558837 non-null  object \n",
      " 6   mmr           558799 non-null  float64\n",
      " 7   sellingprice  558825 non-null  float64\n",
      " 8   saledate      558825 non-null  object \n",
      "dtypes: float64(2), int64(1), object(6)\n",
      "memory usage: 38.4+ MB\n"
     ]
    }
   ],
   "source": [
    "df.info()"
   ]
  },
  {
   "cell_type": "markdown",
   "id": "1c20ef0a",
   "metadata": {},
   "source": [
    "#### Secondly , we clean the 'Transmission' column by removing the values 'sedan' and 'Sedan', then we will remove all the rows with null values in the column."
   ]
  },
  {
   "cell_type": "code",
   "execution_count": 17,
   "id": "38ec6fdd",
   "metadata": {},
   "outputs": [],
   "source": [
    "#code\n",
    "df.drop(df.loc[df['transmission']==\"sedan\"].index, inplace=True)\n",
    "df.drop(df.loc[df['transmission']==\"Sedan\"].index, inplace=True)"
   ]
  },
  {
   "cell_type": "markdown",
   "id": "727ebd57",
   "metadata": {},
   "source": [
    "#### Thirdly, we clean the 'body', 'sellingprice',  'mmr' and 'transmission' column by removing all the null values"
   ]
  },
  {
   "cell_type": "code",
   "execution_count": 33,
   "id": "48829cc2",
   "metadata": {},
   "outputs": [
    {
     "data": {
      "text/html": [
       "<div>\n",
       "<style scoped>\n",
       "    .dataframe tbody tr th:only-of-type {\n",
       "        vertical-align: middle;\n",
       "    }\n",
       "\n",
       "    .dataframe tbody tr th {\n",
       "        vertical-align: top;\n",
       "    }\n",
       "\n",
       "    .dataframe thead th {\n",
       "        text-align: right;\n",
       "    }\n",
       "</style>\n",
       "<table border=\"1\" class=\"dataframe\">\n",
       "  <thead>\n",
       "    <tr style=\"text-align: right;\">\n",
       "      <th></th>\n",
       "      <th>year</th>\n",
       "      <th>make</th>\n",
       "      <th>body</th>\n",
       "      <th>transmission</th>\n",
       "      <th>state</th>\n",
       "      <th>seller</th>\n",
       "      <th>mmr</th>\n",
       "      <th>sellingprice</th>\n",
       "      <th>saledate</th>\n",
       "    </tr>\n",
       "  </thead>\n",
       "  <tbody>\n",
       "    <tr>\n",
       "      <th>0</th>\n",
       "      <td>2015</td>\n",
       "      <td>Kia</td>\n",
       "      <td>SUV</td>\n",
       "      <td>automatic</td>\n",
       "      <td>ca</td>\n",
       "      <td>kia motors america  inc</td>\n",
       "      <td>20500.0</td>\n",
       "      <td>21500.0</td>\n",
       "      <td>Tue Dec 16 2014 12:30:00 GMT-0800 (PST)</td>\n",
       "    </tr>\n",
       "    <tr>\n",
       "      <th>1</th>\n",
       "      <td>2015</td>\n",
       "      <td>Kia</td>\n",
       "      <td>SUV</td>\n",
       "      <td>automatic</td>\n",
       "      <td>ca</td>\n",
       "      <td>kia motors america  inc</td>\n",
       "      <td>20800.0</td>\n",
       "      <td>21500.0</td>\n",
       "      <td>Tue Dec 16 2014 12:30:00 GMT-0800 (PST)</td>\n",
       "    </tr>\n",
       "    <tr>\n",
       "      <th>2</th>\n",
       "      <td>2014</td>\n",
       "      <td>BMW</td>\n",
       "      <td>Sedan</td>\n",
       "      <td>automatic</td>\n",
       "      <td>ca</td>\n",
       "      <td>financial services remarketing (lease)</td>\n",
       "      <td>31900.0</td>\n",
       "      <td>30000.0</td>\n",
       "      <td>Thu Jan 15 2015 04:30:00 GMT-0800 (PST)</td>\n",
       "    </tr>\n",
       "    <tr>\n",
       "      <th>3</th>\n",
       "      <td>2015</td>\n",
       "      <td>Volvo</td>\n",
       "      <td>Sedan</td>\n",
       "      <td>automatic</td>\n",
       "      <td>ca</td>\n",
       "      <td>volvo na rep/world omni</td>\n",
       "      <td>27500.0</td>\n",
       "      <td>27750.0</td>\n",
       "      <td>Thu Jan 29 2015 04:30:00 GMT-0800 (PST)</td>\n",
       "    </tr>\n",
       "    <tr>\n",
       "      <th>4</th>\n",
       "      <td>2014</td>\n",
       "      <td>BMW</td>\n",
       "      <td>Sedan</td>\n",
       "      <td>automatic</td>\n",
       "      <td>ca</td>\n",
       "      <td>financial services remarketing (lease)</td>\n",
       "      <td>66000.0</td>\n",
       "      <td>67000.0</td>\n",
       "      <td>Thu Dec 18 2014 12:30:00 GMT-0800 (PST)</td>\n",
       "    </tr>\n",
       "    <tr>\n",
       "      <th>...</th>\n",
       "      <td>...</td>\n",
       "      <td>...</td>\n",
       "      <td>...</td>\n",
       "      <td>...</td>\n",
       "      <td>...</td>\n",
       "      <td>...</td>\n",
       "      <td>...</td>\n",
       "      <td>...</td>\n",
       "      <td>...</td>\n",
       "    </tr>\n",
       "    <tr>\n",
       "      <th>558831</th>\n",
       "      <td>2011</td>\n",
       "      <td>BMW</td>\n",
       "      <td>Sedan</td>\n",
       "      <td>automatic</td>\n",
       "      <td>fl</td>\n",
       "      <td>lauderdale imports ltd bmw pembrok pines</td>\n",
       "      <td>20300.0</td>\n",
       "      <td>22800.0</td>\n",
       "      <td>Tue Jul 07 2015 06:15:00 GMT-0700 (PDT)</td>\n",
       "    </tr>\n",
       "    <tr>\n",
       "      <th>558833</th>\n",
       "      <td>2012</td>\n",
       "      <td>Ram</td>\n",
       "      <td>Crew Cab</td>\n",
       "      <td>automatic</td>\n",
       "      <td>wa</td>\n",
       "      <td>i -5 uhlmann rv</td>\n",
       "      <td>30200.0</td>\n",
       "      <td>30800.0</td>\n",
       "      <td>Wed Jul 08 2015 09:30:00 GMT-0700 (PDT)</td>\n",
       "    </tr>\n",
       "    <tr>\n",
       "      <th>558834</th>\n",
       "      <td>2012</td>\n",
       "      <td>BMW</td>\n",
       "      <td>SUV</td>\n",
       "      <td>automatic</td>\n",
       "      <td>ca</td>\n",
       "      <td>financial services remarketing (lease)</td>\n",
       "      <td>29800.0</td>\n",
       "      <td>34000.0</td>\n",
       "      <td>Wed Jul 08 2015 09:30:00 GMT-0700 (PDT)</td>\n",
       "    </tr>\n",
       "    <tr>\n",
       "      <th>558835</th>\n",
       "      <td>2015</td>\n",
       "      <td>Nissan</td>\n",
       "      <td>sedan</td>\n",
       "      <td>automatic</td>\n",
       "      <td>ga</td>\n",
       "      <td>enterprise vehicle exchange / tra / rental / t...</td>\n",
       "      <td>15100.0</td>\n",
       "      <td>11100.0</td>\n",
       "      <td>Thu Jul 09 2015 06:45:00 GMT-0700 (PDT)</td>\n",
       "    </tr>\n",
       "    <tr>\n",
       "      <th>558836</th>\n",
       "      <td>2014</td>\n",
       "      <td>Ford</td>\n",
       "      <td>SuperCrew</td>\n",
       "      <td>automatic</td>\n",
       "      <td>ca</td>\n",
       "      <td>ford motor credit company llc pd</td>\n",
       "      <td>29600.0</td>\n",
       "      <td>26700.0</td>\n",
       "      <td>Thu May 28 2015 05:30:00 GMT-0700 (PDT)</td>\n",
       "    </tr>\n",
       "  </tbody>\n",
       "</table>\n",
       "<p>482416 rows × 9 columns</p>\n",
       "</div>"
      ],
      "text/plain": [
       "        year    make       body transmission state  \\\n",
       "0       2015     Kia        SUV    automatic    ca   \n",
       "1       2015     Kia        SUV    automatic    ca   \n",
       "2       2014     BMW      Sedan    automatic    ca   \n",
       "3       2015   Volvo      Sedan    automatic    ca   \n",
       "4       2014     BMW      Sedan    automatic    ca   \n",
       "...      ...     ...        ...          ...   ...   \n",
       "558831  2011     BMW      Sedan    automatic    fl   \n",
       "558833  2012     Ram   Crew Cab    automatic    wa   \n",
       "558834  2012     BMW        SUV    automatic    ca   \n",
       "558835  2015  Nissan      sedan    automatic    ga   \n",
       "558836  2014    Ford  SuperCrew    automatic    ca   \n",
       "\n",
       "                                                   seller      mmr  \\\n",
       "0                                 kia motors america  inc  20500.0   \n",
       "1                                 kia motors america  inc  20800.0   \n",
       "2                  financial services remarketing (lease)  31900.0   \n",
       "3                                 volvo na rep/world omni  27500.0   \n",
       "4                  financial services remarketing (lease)  66000.0   \n",
       "...                                                   ...      ...   \n",
       "558831           lauderdale imports ltd bmw pembrok pines  20300.0   \n",
       "558833                                    i -5 uhlmann rv  30200.0   \n",
       "558834             financial services remarketing (lease)  29800.0   \n",
       "558835  enterprise vehicle exchange / tra / rental / t...  15100.0   \n",
       "558836                   ford motor credit company llc pd  29600.0   \n",
       "\n",
       "        sellingprice                                 saledate  \n",
       "0            21500.0  Tue Dec 16 2014 12:30:00 GMT-0800 (PST)  \n",
       "1            21500.0  Tue Dec 16 2014 12:30:00 GMT-0800 (PST)  \n",
       "2            30000.0  Thu Jan 15 2015 04:30:00 GMT-0800 (PST)  \n",
       "3            27750.0  Thu Jan 29 2015 04:30:00 GMT-0800 (PST)  \n",
       "4            67000.0  Thu Dec 18 2014 12:30:00 GMT-0800 (PST)  \n",
       "...              ...                                      ...  \n",
       "558831       22800.0  Tue Jul 07 2015 06:15:00 GMT-0700 (PDT)  \n",
       "558833       30800.0  Wed Jul 08 2015 09:30:00 GMT-0700 (PDT)  \n",
       "558834       34000.0  Wed Jul 08 2015 09:30:00 GMT-0700 (PDT)  \n",
       "558835       11100.0  Thu Jul 09 2015 06:45:00 GMT-0700 (PDT)  \n",
       "558836       26700.0  Thu May 28 2015 05:30:00 GMT-0700 (PDT)  \n",
       "\n",
       "[482416 rows x 9 columns]"
      ]
     },
     "execution_count": 33,
     "metadata": {},
     "output_type": "execute_result"
    }
   ],
   "source": [
    "#code\n",
    "df.dropna()"
   ]
  },
  {
   "cell_type": "markdown",
   "id": "34c18a0f",
   "metadata": {},
   "source": [
    "#### Then we clean the 'state' column by removing the rows which have nonsensical values."
   ]
  },
  {
   "cell_type": "code",
   "execution_count": 34,
   "id": "91c26148",
   "metadata": {},
   "outputs": [
    {
     "data": {
      "text/plain": [
       "array(['ca', 'tx', 'pa', 'mn', 'az', 'wi', 'tn', 'md', 'fl', 'ne', 'nj',\n",
       "       'nv', 'oh', 'mi', 'ga', 'va', 'sc', 'nc', 'in', 'il', 'co', 'ut',\n",
       "       'mo', 'ny', 'ma', 'pr', 'or', 'la', 'wa', 'hi', 'qc', 'ab', 'on',\n",
       "       'ok', 'ms', 'nm', 'al', 'ns'], dtype=object)"
      ]
     },
     "execution_count": 34,
     "metadata": {},
     "output_type": "execute_result"
    }
   ],
   "source": [
    "#code \n",
    "df['state'].unique()"
   ]
  },
  {
   "cell_type": "markdown",
   "id": "2e5b2076",
   "metadata": {},
   "source": [
    "usa: ALABAMA -AL\n",
    "ALASKA \t-AK\n",
    "ARIZONA -AZ\n",
    "CALIFORNIA -CA\n",
    "COLORADO -CO\n",
    "FLORIDA -FL\n",
    "GEORGIA -GA\n",
    "HAWAII- HI\n",
    "ILLINOIS -IL\n",
    "INDIANA -IN\n",
    "LOUISIANA -LA\n",
    "MARYLAND -MD\n",
    "MASSACHUSETTS -MA\n",
    "MICHIGAN -MI\n",
    "MINNESOTA -MN\n",
    "MISSISSIPPI -MS\n",
    "MISSOURI -MO\n",
    "NEVADA -NV\n",
    "NEW JERSEY -NJ\n",
    "NEW MEXICO -NM\n",
    "NEW YORK -NY\n",
    "NORTH CAROLINA -NC\n",
    "OHIO -OH\n",
    "OKLAHOMA -OK\n",
    "OREGON -OR\n",
    "PENNSYLVANIA -PA\n",
    "PUERTO RICO-PR \n",
    "SOUTH CAROLINA -SC\n",
    "TENNESSEE -TN\n",
    "TEXAS -TX\n",
    "UTAH- UT\n",
    "VIRGINIA -VA\n",
    "WASHINGTON -WA\n",
    "WISCONSIN -WI\n",
    "\n",
    "canada: QUEBEC-QC, ALBERTA-AB, ONTARIO-ON"
   ]
  },
  {
   "cell_type": "code",
   "execution_count": 44,
   "id": "b1ee9525",
   "metadata": {},
   "outputs": [
    {
     "data": {
      "text/html": [
       "<div>\n",
       "<style scoped>\n",
       "    .dataframe tbody tr th:only-of-type {\n",
       "        vertical-align: middle;\n",
       "    }\n",
       "\n",
       "    .dataframe tbody tr th {\n",
       "        vertical-align: top;\n",
       "    }\n",
       "\n",
       "    .dataframe thead th {\n",
       "        text-align: right;\n",
       "    }\n",
       "</style>\n",
       "<table border=\"1\" class=\"dataframe\">\n",
       "  <thead>\n",
       "    <tr style=\"text-align: right;\">\n",
       "      <th></th>\n",
       "      <th>year</th>\n",
       "      <th>make</th>\n",
       "      <th>body</th>\n",
       "      <th>transmission</th>\n",
       "      <th>state</th>\n",
       "      <th>seller</th>\n",
       "      <th>mmr</th>\n",
       "      <th>sellingprice</th>\n",
       "      <th>saledate</th>\n",
       "    </tr>\n",
       "  </thead>\n",
       "  <tbody>\n",
       "    <tr>\n",
       "      <th>9463</th>\n",
       "      <td>2011</td>\n",
       "      <td>Ford</td>\n",
       "      <td>SuperCrew</td>\n",
       "      <td>notApp</td>\n",
       "      <td>on</td>\n",
       "      <td>canadian auto remarketing</td>\n",
       "      <td>22100.0</td>\n",
       "      <td>21000.0</td>\n",
       "      <td>Thu Dec 18 2014 18:30:00 GMT-0800 (PST)</td>\n",
       "    </tr>\n",
       "    <tr>\n",
       "      <th>9824</th>\n",
       "      <td>2011</td>\n",
       "      <td>Honda</td>\n",
       "      <td>SUV</td>\n",
       "      <td>notApp</td>\n",
       "      <td>on</td>\n",
       "      <td>coconut grove fleet and lease</td>\n",
       "      <td>17200.0</td>\n",
       "      <td>18100.0</td>\n",
       "      <td>Thu Dec 18 2014 18:30:00 GMT-0800 (PST)</td>\n",
       "    </tr>\n",
       "    <tr>\n",
       "      <th>10508</th>\n",
       "      <td>2011</td>\n",
       "      <td>MINI</td>\n",
       "      <td>Wagon</td>\n",
       "      <td>notApp</td>\n",
       "      <td>on</td>\n",
       "      <td>mercedes-benz</td>\n",
       "      <td>15950.0</td>\n",
       "      <td>14200.0</td>\n",
       "      <td>Thu Dec 18 2014 18:30:00 GMT-0800 (PST)</td>\n",
       "    </tr>\n",
       "    <tr>\n",
       "      <th>11364</th>\n",
       "      <td>2011</td>\n",
       "      <td>Toyota</td>\n",
       "      <td>Minivan</td>\n",
       "      <td>notApp</td>\n",
       "      <td>on</td>\n",
       "      <td>mercedes-benz</td>\n",
       "      <td>13200.0</td>\n",
       "      <td>12700.0</td>\n",
       "      <td>Thu Dec 18 2014 18:30:00 GMT-0800 (PST)</td>\n",
       "    </tr>\n",
       "    <tr>\n",
       "      <th>11381</th>\n",
       "      <td>2011</td>\n",
       "      <td>volkswagen</td>\n",
       "      <td>NaN</td>\n",
       "      <td>notApp</td>\n",
       "      <td>on</td>\n",
       "      <td>auction direct</td>\n",
       "      <td>10300.0</td>\n",
       "      <td>6900.0</td>\n",
       "      <td>Thu Dec 18 2014 18:30:00 GMT-0800 (PST)</td>\n",
       "    </tr>\n",
       "    <tr>\n",
       "      <th>...</th>\n",
       "      <td>...</td>\n",
       "      <td>...</td>\n",
       "      <td>...</td>\n",
       "      <td>...</td>\n",
       "      <td>...</td>\n",
       "      <td>...</td>\n",
       "      <td>...</td>\n",
       "      <td>...</td>\n",
       "      <td>...</td>\n",
       "    </tr>\n",
       "    <tr>\n",
       "      <th>551944</th>\n",
       "      <td>2014</td>\n",
       "      <td>Toyota</td>\n",
       "      <td>sedan</td>\n",
       "      <td>notApp</td>\n",
       "      <td>on</td>\n",
       "      <td>eagle north leasing inc</td>\n",
       "      <td>14900.0</td>\n",
       "      <td>14000.0</td>\n",
       "      <td>Tue Jun 16 2015 03:00:00 GMT-0700 (PDT)</td>\n",
       "    </tr>\n",
       "    <tr>\n",
       "      <th>557812</th>\n",
       "      <td>2004</td>\n",
       "      <td>Jeep</td>\n",
       "      <td>suv</td>\n",
       "      <td>notApp</td>\n",
       "      <td>on</td>\n",
       "      <td>oakville chrysler dodge jeep ram</td>\n",
       "      <td>3000.0</td>\n",
       "      <td>3600.0</td>\n",
       "      <td>Thu Jun 18 2015 11:30:00 GMT-0700 (PDT)</td>\n",
       "    </tr>\n",
       "    <tr>\n",
       "      <th>558322</th>\n",
       "      <td>2011</td>\n",
       "      <td>Jeep</td>\n",
       "      <td>suv</td>\n",
       "      <td>notApp</td>\n",
       "      <td>on</td>\n",
       "      <td>oakville chrysler dodge jeep ram</td>\n",
       "      <td>26800.0</td>\n",
       "      <td>25000.0</td>\n",
       "      <td>Thu Jun 18 2015 11:30:00 GMT-0700 (PDT)</td>\n",
       "    </tr>\n",
       "    <tr>\n",
       "      <th>558351</th>\n",
       "      <td>2010</td>\n",
       "      <td>Jeep</td>\n",
       "      <td>suv</td>\n",
       "      <td>notApp</td>\n",
       "      <td>on</td>\n",
       "      <td>robinson buick gmc ltd</td>\n",
       "      <td>5825.0</td>\n",
       "      <td>8400.0</td>\n",
       "      <td>Thu Jun 18 2015 11:30:00 GMT-0700 (PDT)</td>\n",
       "    </tr>\n",
       "    <tr>\n",
       "      <th>558526</th>\n",
       "      <td>2012</td>\n",
       "      <td>Chevrolet</td>\n",
       "      <td>sedan</td>\n",
       "      <td>notApp</td>\n",
       "      <td>on</td>\n",
       "      <td>budds chev cadillac buick gmc</td>\n",
       "      <td>8475.0</td>\n",
       "      <td>6900.0</td>\n",
       "      <td>Thu Jun 18 2015 11:30:00 GMT-0700 (PDT)</td>\n",
       "    </tr>\n",
       "  </tbody>\n",
       "</table>\n",
       "<p>3442 rows × 9 columns</p>\n",
       "</div>"
      ],
      "text/plain": [
       "        year        make       body transmission state  \\\n",
       "9463    2011        Ford  SuperCrew       notApp    on   \n",
       "9824    2011       Honda        SUV       notApp    on   \n",
       "10508   2011        MINI      Wagon       notApp    on   \n",
       "11364   2011      Toyota    Minivan       notApp    on   \n",
       "11381   2011  volkswagen        NaN       notApp    on   \n",
       "...      ...         ...        ...          ...   ...   \n",
       "551944  2014      Toyota      sedan       notApp    on   \n",
       "557812  2004        Jeep        suv       notApp    on   \n",
       "558322  2011        Jeep        suv       notApp    on   \n",
       "558351  2010        Jeep        suv       notApp    on   \n",
       "558526  2012   Chevrolet      sedan       notApp    on   \n",
       "\n",
       "                                  seller      mmr  sellingprice  \\\n",
       "9463           canadian auto remarketing  22100.0       21000.0   \n",
       "9824       coconut grove fleet and lease  17200.0       18100.0   \n",
       "10508                      mercedes-benz  15950.0       14200.0   \n",
       "11364                      mercedes-benz  13200.0       12700.0   \n",
       "11381                     auction direct  10300.0        6900.0   \n",
       "...                                  ...      ...           ...   \n",
       "551944           eagle north leasing inc  14900.0       14000.0   \n",
       "557812  oakville chrysler dodge jeep ram   3000.0        3600.0   \n",
       "558322  oakville chrysler dodge jeep ram  26800.0       25000.0   \n",
       "558351            robinson buick gmc ltd   5825.0        8400.0   \n",
       "558526     budds chev cadillac buick gmc   8475.0        6900.0   \n",
       "\n",
       "                                       saledate  \n",
       "9463    Thu Dec 18 2014 18:30:00 GMT-0800 (PST)  \n",
       "9824    Thu Dec 18 2014 18:30:00 GMT-0800 (PST)  \n",
       "10508   Thu Dec 18 2014 18:30:00 GMT-0800 (PST)  \n",
       "11364   Thu Dec 18 2014 18:30:00 GMT-0800 (PST)  \n",
       "11381   Thu Dec 18 2014 18:30:00 GMT-0800 (PST)  \n",
       "...                                         ...  \n",
       "551944  Tue Jun 16 2015 03:00:00 GMT-0700 (PDT)  \n",
       "557812  Thu Jun 18 2015 11:30:00 GMT-0700 (PDT)  \n",
       "558322  Thu Jun 18 2015 11:30:00 GMT-0700 (PDT)  \n",
       "558351  Thu Jun 18 2015 11:30:00 GMT-0700 (PDT)  \n",
       "558526  Thu Jun 18 2015 11:30:00 GMT-0700 (PDT)  \n",
       "\n",
       "[3442 rows x 9 columns]"
      ]
     },
     "execution_count": 44,
     "metadata": {},
     "output_type": "execute_result"
    }
   ],
   "source": [
    "df.loc[df['state'] == \"on\"]"
   ]
  },
  {
   "cell_type": "code",
   "execution_count": 47,
   "id": "dbd3b8d1",
   "metadata": {},
   "outputs": [],
   "source": [
    "#df.loc[df['state'] == \"ab\", 'state'] = \"mn\"\n",
    "#df.drop(df['state'] == \"ne\", inplace=True)"
   ]
  },
  {
   "cell_type": "code",
   "execution_count": 42,
   "id": "f3ce4c6c",
   "metadata": {},
   "outputs": [
    {
     "data": {
      "text/plain": [
       "state\n",
       "fl    82945\n",
       "ca    73148\n",
       "pa    53907\n",
       "tx    45913\n",
       "ga    34750\n",
       "nj    27784\n",
       "il    23486\n",
       "nc    21845\n",
       "oh    21575\n",
       "tn    20895\n",
       "mo    16013\n",
       "mi    15511\n",
       "nv    12685\n",
       "va    12027\n",
       "md    11158\n",
       "mn    10357\n",
       "wi     9851\n",
       "az     8741\n",
       "co     7775\n",
       "wa     7416\n",
       "ma     6729\n",
       "ny     5699\n",
       "in     4325\n",
       "sc     4251\n",
       "ne     4013\n",
       "on     3442\n",
       "pr     2725\n",
       "la     2191\n",
       "ms     1851\n",
       "ut     1836\n",
       "qc     1245\n",
       "hi     1237\n",
       "or     1155\n",
       "nm      171\n",
       "ok       72\n",
       "ns       61\n",
       "al       26\n",
       "Name: count, dtype: int64"
      ]
     },
     "execution_count": 42,
     "metadata": {},
     "output_type": "execute_result"
    }
   ],
   "source": [
    "df['state'].value_counts()"
   ]
  },
  {
   "cell_type": "code",
   "execution_count": null,
   "id": "92c68df7",
   "metadata": {},
   "outputs": [],
   "source": []
  }
 ],
 "metadata": {
  "kernelspec": {
   "display_name": "Python 3 (ipykernel)",
   "language": "python",
   "name": "python3"
  },
  "language_info": {
   "codemirror_mode": {
    "name": "ipython",
    "version": 3
   },
   "file_extension": ".py",
   "mimetype": "text/x-python",
   "name": "python",
   "nbconvert_exporter": "python",
   "pygments_lexer": "ipython3",
   "version": "3.11.5"
  }
 },
 "nbformat": 4,
 "nbformat_minor": 5
}
