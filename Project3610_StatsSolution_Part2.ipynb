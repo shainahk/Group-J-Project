{
 "cells": [
  {
   "cell_type": "markdown",
   "id": "98c8a2f7",
   "metadata": {},
   "source": [
    "# Importing the dataset"
   ]
  },
  {
   "cell_type": "code",
   "execution_count": 1,
   "id": "6c83c4db",
   "metadata": {},
   "outputs": [],
   "source": [
    "import numpy as np\n",
    "import pandas as pd\n",
    "import matplotlib.pyplot as plt\n",
    "import seaborn as sns"
   ]
  },
  {
   "cell_type": "code",
   "execution_count": 2,
   "id": "788f3b76",
   "metadata": {},
   "outputs": [],
   "source": [
    "df = pd.read_csv('car_prices.csv')"
   ]
  },
  {
   "cell_type": "markdown",
   "id": "a766a6ca",
   "metadata": {},
   "source": [
    "# Learning the dataset"
   ]
  },
  {
   "cell_type": "code",
   "execution_count": 3,
   "id": "7fdf59bb",
   "metadata": {},
   "outputs": [
    {
     "data": {
      "text/html": [
       "<div>\n",
       "<style scoped>\n",
       "    .dataframe tbody tr th:only-of-type {\n",
       "        vertical-align: middle;\n",
       "    }\n",
       "\n",
       "    .dataframe tbody tr th {\n",
       "        vertical-align: top;\n",
       "    }\n",
       "\n",
       "    .dataframe thead th {\n",
       "        text-align: right;\n",
       "    }\n",
       "</style>\n",
       "<table border=\"1\" class=\"dataframe\">\n",
       "  <thead>\n",
       "    <tr style=\"text-align: right;\">\n",
       "      <th></th>\n",
       "      <th>year</th>\n",
       "      <th>make</th>\n",
       "      <th>model</th>\n",
       "      <th>trim</th>\n",
       "      <th>body</th>\n",
       "      <th>transmission</th>\n",
       "      <th>vin</th>\n",
       "      <th>state</th>\n",
       "      <th>condition</th>\n",
       "      <th>odometer</th>\n",
       "      <th>color</th>\n",
       "      <th>interior</th>\n",
       "      <th>seller</th>\n",
       "      <th>mmr</th>\n",
       "      <th>sellingprice</th>\n",
       "      <th>saledate</th>\n",
       "    </tr>\n",
       "  </thead>\n",
       "  <tbody>\n",
       "    <tr>\n",
       "      <th>0</th>\n",
       "      <td>2015</td>\n",
       "      <td>Kia</td>\n",
       "      <td>Sorento</td>\n",
       "      <td>LX</td>\n",
       "      <td>SUV</td>\n",
       "      <td>automatic</td>\n",
       "      <td>5xyktca69fg566472</td>\n",
       "      <td>ca</td>\n",
       "      <td>5.0</td>\n",
       "      <td>16639.0</td>\n",
       "      <td>white</td>\n",
       "      <td>black</td>\n",
       "      <td>kia motors america  inc</td>\n",
       "      <td>20500.0</td>\n",
       "      <td>21500.0</td>\n",
       "      <td>Tue Dec 16 2014 12:30:00 GMT-0800 (PST)</td>\n",
       "    </tr>\n",
       "    <tr>\n",
       "      <th>1</th>\n",
       "      <td>2015</td>\n",
       "      <td>Kia</td>\n",
       "      <td>Sorento</td>\n",
       "      <td>LX</td>\n",
       "      <td>SUV</td>\n",
       "      <td>automatic</td>\n",
       "      <td>5xyktca69fg561319</td>\n",
       "      <td>ca</td>\n",
       "      <td>5.0</td>\n",
       "      <td>9393.0</td>\n",
       "      <td>white</td>\n",
       "      <td>beige</td>\n",
       "      <td>kia motors america  inc</td>\n",
       "      <td>20800.0</td>\n",
       "      <td>21500.0</td>\n",
       "      <td>Tue Dec 16 2014 12:30:00 GMT-0800 (PST)</td>\n",
       "    </tr>\n",
       "    <tr>\n",
       "      <th>2</th>\n",
       "      <td>2014</td>\n",
       "      <td>BMW</td>\n",
       "      <td>3 Series</td>\n",
       "      <td>328i SULEV</td>\n",
       "      <td>Sedan</td>\n",
       "      <td>automatic</td>\n",
       "      <td>wba3c1c51ek116351</td>\n",
       "      <td>ca</td>\n",
       "      <td>45.0</td>\n",
       "      <td>1331.0</td>\n",
       "      <td>gray</td>\n",
       "      <td>black</td>\n",
       "      <td>financial services remarketing (lease)</td>\n",
       "      <td>31900.0</td>\n",
       "      <td>30000.0</td>\n",
       "      <td>Thu Jan 15 2015 04:30:00 GMT-0800 (PST)</td>\n",
       "    </tr>\n",
       "  </tbody>\n",
       "</table>\n",
       "</div>"
      ],
      "text/plain": [
       "   year make     model        trim   body transmission                vin  \\\n",
       "0  2015  Kia   Sorento          LX    SUV    automatic  5xyktca69fg566472   \n",
       "1  2015  Kia   Sorento          LX    SUV    automatic  5xyktca69fg561319   \n",
       "2  2014  BMW  3 Series  328i SULEV  Sedan    automatic  wba3c1c51ek116351   \n",
       "\n",
       "  state  condition  odometer  color interior  \\\n",
       "0    ca        5.0   16639.0  white    black   \n",
       "1    ca        5.0    9393.0  white    beige   \n",
       "2    ca       45.0    1331.0   gray    black   \n",
       "\n",
       "                                   seller      mmr  sellingprice  \\\n",
       "0                 kia motors america  inc  20500.0       21500.0   \n",
       "1                 kia motors america  inc  20800.0       21500.0   \n",
       "2  financial services remarketing (lease)  31900.0       30000.0   \n",
       "\n",
       "                                  saledate  \n",
       "0  Tue Dec 16 2014 12:30:00 GMT-0800 (PST)  \n",
       "1  Tue Dec 16 2014 12:30:00 GMT-0800 (PST)  \n",
       "2  Thu Jan 15 2015 04:30:00 GMT-0800 (PST)  "
      ]
     },
     "execution_count": 3,
     "metadata": {},
     "output_type": "execute_result"
    }
   ],
   "source": [
    "df.head(3)"
   ]
  },
  {
   "cell_type": "code",
   "execution_count": 4,
   "id": "06ecf3f6",
   "metadata": {},
   "outputs": [
    {
     "name": "stdout",
     "output_type": "stream",
     "text": [
      "<class 'pandas.core.frame.DataFrame'>\n",
      "RangeIndex: 558837 entries, 0 to 558836\n",
      "Data columns (total 16 columns):\n",
      " #   Column        Non-Null Count   Dtype  \n",
      "---  ------        --------------   -----  \n",
      " 0   year          558837 non-null  int64  \n",
      " 1   make          548536 non-null  object \n",
      " 2   model         548438 non-null  object \n",
      " 3   trim          548186 non-null  object \n",
      " 4   body          545642 non-null  object \n",
      " 5   transmission  493485 non-null  object \n",
      " 6   vin           558833 non-null  object \n",
      " 7   state         558837 non-null  object \n",
      " 8   condition     547017 non-null  float64\n",
      " 9   odometer      558743 non-null  float64\n",
      " 10  color         558088 non-null  object \n",
      " 11  interior      558088 non-null  object \n",
      " 12  seller        558837 non-null  object \n",
      " 13  mmr           558799 non-null  float64\n",
      " 14  sellingprice  558825 non-null  float64\n",
      " 15  saledate      558825 non-null  object \n",
      "dtypes: float64(4), int64(1), object(11)\n",
      "memory usage: 68.2+ MB\n"
     ]
    }
   ],
   "source": [
    "df.info()"
   ]
  },
  {
   "cell_type": "code",
   "execution_count": 5,
   "id": "a63a443e",
   "metadata": {
    "scrolled": true
   },
   "outputs": [
    {
     "data": {
      "text/plain": [
       "make\n",
       "Ford          93554\n",
       "Chevrolet     60197\n",
       "Nissan        53946\n",
       "Toyota        39871\n",
       "Dodge         30710\n",
       "              ...  \n",
       "airstream         1\n",
       "ford tk           1\n",
       "chev truck        1\n",
       "hyundai tk        1\n",
       "Lotus             1\n",
       "Name: count, Length: 96, dtype: int64"
      ]
     },
     "execution_count": 5,
     "metadata": {},
     "output_type": "execute_result"
    }
   ],
   "source": [
    "#df['year'].value_counts()\n",
    "df['make'].value_counts()"
   ]
  },
  {
   "cell_type": "code",
   "execution_count": 6,
   "id": "246646b0",
   "metadata": {
    "scrolled": true
   },
   "outputs": [
    {
     "data": {
      "text/plain": [
       "body\n",
       "Sedan          199437\n",
       "SUV            119292\n",
       "sedan           41906\n",
       "suv             24552\n",
       "Hatchback       21380\n",
       "                ...  \n",
       "cab plus 4          1\n",
       "g37 coupe           1\n",
       "CTS-V Wagon         1\n",
       "Ram Van             1\n",
       "cts wagon           1\n",
       "Name: count, Length: 87, dtype: int64"
      ]
     },
     "execution_count": 6,
     "metadata": {},
     "output_type": "execute_result"
    }
   ],
   "source": [
    "df['body'].value_counts()"
   ]
  },
  {
   "cell_type": "code",
   "execution_count": 7,
   "id": "021344d5",
   "metadata": {
    "scrolled": true
   },
   "outputs": [
    {
     "data": {
      "text/plain": [
       "state\n",
       "fl                   82945\n",
       "ca                   73148\n",
       "pa                   53907\n",
       "tx                   45913\n",
       "ga                   34750\n",
       "                     ...  \n",
       "3vwd17aj2fm285365        1\n",
       "3vwd17aj3fm276741        1\n",
       "3vwd17aj2fm258506        1\n",
       "3vwd17aj4fm201708        1\n",
       "3vwd17aj2fm261566        1\n",
       "Name: count, Length: 64, dtype: int64"
      ]
     },
     "execution_count": 7,
     "metadata": {},
     "output_type": "execute_result"
    }
   ],
   "source": [
    "df['state'].value_counts()    #notice that there are some odd values in this column"
   ]
  },
  {
   "cell_type": "code",
   "execution_count": 8,
   "id": "0f3f7024",
   "metadata": {
    "scrolled": true
   },
   "outputs": [
    {
     "data": {
      "text/plain": [
       "transmission\n",
       "automatic    475915\n",
       "manual        17544\n",
       "sedan            15\n",
       "Sedan            11\n",
       "Name: count, dtype: int64"
      ]
     },
     "execution_count": 8,
     "metadata": {},
     "output_type": "execute_result"
    }
   ],
   "source": [
    "df['transmission'].value_counts()"
   ]
  },
  {
   "cell_type": "code",
   "execution_count": 9,
   "id": "65d434cd",
   "metadata": {},
   "outputs": [
    {
     "data": {
      "text/plain": [
       "sellingprice\n",
       "11000.0     4453\n",
       "12000.0     4450\n",
       "13000.0     4334\n",
       "10000.0     4029\n",
       "14000.0     3899\n",
       "            ... \n",
       "28350.0        1\n",
       "30201.0        1\n",
       "131500.0       1\n",
       "31550.0        1\n",
       "27840.0        1\n",
       "Name: count, Length: 1887, dtype: int64"
      ]
     },
     "execution_count": 9,
     "metadata": {},
     "output_type": "execute_result"
    }
   ],
   "source": [
    "df['sellingprice'].value_counts()"
   ]
  },
  {
   "cell_type": "code",
   "execution_count": 10,
   "id": "8e396bae",
   "metadata": {},
   "outputs": [
    {
     "data": {
      "text/plain": [
       "mmr\n",
       "12500.0     1761\n",
       "11600.0     1751\n",
       "11650.0     1746\n",
       "12150.0     1722\n",
       "11850.0     1717\n",
       "            ... \n",
       "172000.0       1\n",
       "134000.0       1\n",
       "113000.0       1\n",
       "154000.0       1\n",
       "164000.0       1\n",
       "Name: count, Length: 1101, dtype: int64"
      ]
     },
     "execution_count": 10,
     "metadata": {},
     "output_type": "execute_result"
    }
   ],
   "source": [
    "df['mmr'].value_counts()"
   ]
  },
  {
   "cell_type": "markdown",
   "id": "674baa38",
   "metadata": {},
   "source": [
    "#### Here we can see that there are values in the \"transmission\" column which do not make sense; a sedan is a the body of the vehicle and can be either manual or automatic. Considering that the dataset is so large we can afford to drop those rows with an incorrect value for the \"transmission\" column. There are still rows with empty cells so part of the preprocessing would be remove rows with null values.\n",
    "\n",
    "#### Here we see that some values in the \"state\" column are out of place, we can remove those rows. \n",
    "\n",
    "#### Some columns can be dropped because we do not need to work with them in this solution."
   ]
  },
  {
   "cell_type": "markdown",
   "id": "65aab6a8",
   "metadata": {},
   "source": [
    "# Data Preprocessing "
   ]
  },
  {
   "cell_type": "markdown",
   "id": "1b9183b6",
   "metadata": {},
   "source": [
    "#### Firstly, we remove all the column which we are not using in the dataset. These include: make, model, body, trim , vin, condition, odometer, color , interior and saledate ."
   ]
  },
  {
   "cell_type": "code",
   "execution_count": 11,
   "id": "e5627c81",
   "metadata": {},
   "outputs": [],
   "source": [
    "#code\n",
    "df.drop('make', axis=1, inplace=True)\n",
    "df.drop('model', axis=1, inplace=True)\n",
    "df.drop('body', axis=1, inplace=True)\n",
    "df.drop('trim', axis=1,inplace=True)\n",
    "df.drop('vin', axis=1,inplace=True)\n",
    "df.drop('condition', axis=1,inplace=True)\n",
    "df.drop('odometer', axis=1,inplace=True)\n",
    "df.drop('color', axis=1,inplace=True)\n",
    "df.drop('interior', axis=1,inplace=True)\n",
    "df.drop('saledate', axis=1,inplace=True)"
   ]
  },
  {
   "cell_type": "code",
   "execution_count": 12,
   "id": "0a475005",
   "metadata": {},
   "outputs": [
    {
     "name": "stdout",
     "output_type": "stream",
     "text": [
      "<class 'pandas.core.frame.DataFrame'>\n",
      "RangeIndex: 558837 entries, 0 to 558836\n",
      "Data columns (total 6 columns):\n",
      " #   Column        Non-Null Count   Dtype  \n",
      "---  ------        --------------   -----  \n",
      " 0   year          558837 non-null  int64  \n",
      " 1   transmission  493485 non-null  object \n",
      " 2   state         558837 non-null  object \n",
      " 3   seller        558837 non-null  object \n",
      " 4   mmr           558799 non-null  float64\n",
      " 5   sellingprice  558825 non-null  float64\n",
      "dtypes: float64(2), int64(1), object(3)\n",
      "memory usage: 25.6+ MB\n"
     ]
    }
   ],
   "source": [
    "df.info()"
   ]
  },
  {
   "cell_type": "markdown",
   "id": "1c20ef0a",
   "metadata": {},
   "source": [
    "#### Secondly , we clean the 'Transmission' column by removing the values 'sedan' and 'Sedan', then we will remove all the rows with null values in the column."
   ]
  },
  {
   "cell_type": "code",
   "execution_count": 13,
   "id": "38ec6fdd",
   "metadata": {},
   "outputs": [],
   "source": [
    "#code\n",
    "df.drop(df.loc[df['transmission']==\"sedan\"].index, inplace=True)\n",
    "df.drop(df.loc[df['transmission']==\"Sedan\"].index, inplace=True)"
   ]
  },
  {
   "cell_type": "markdown",
   "id": "727ebd57",
   "metadata": {},
   "source": [
    "#### Thirdly, we clean the dataset by removing all the null values."
   ]
  },
  {
   "cell_type": "code",
   "execution_count": 14,
   "id": "48829cc2",
   "metadata": {},
   "outputs": [
    {
     "data": {
      "text/html": [
       "<div>\n",
       "<style scoped>\n",
       "    .dataframe tbody tr th:only-of-type {\n",
       "        vertical-align: middle;\n",
       "    }\n",
       "\n",
       "    .dataframe tbody tr th {\n",
       "        vertical-align: top;\n",
       "    }\n",
       "\n",
       "    .dataframe thead th {\n",
       "        text-align: right;\n",
       "    }\n",
       "</style>\n",
       "<table border=\"1\" class=\"dataframe\">\n",
       "  <thead>\n",
       "    <tr style=\"text-align: right;\">\n",
       "      <th></th>\n",
       "      <th>year</th>\n",
       "      <th>transmission</th>\n",
       "      <th>state</th>\n",
       "      <th>seller</th>\n",
       "      <th>mmr</th>\n",
       "      <th>sellingprice</th>\n",
       "    </tr>\n",
       "  </thead>\n",
       "  <tbody>\n",
       "    <tr>\n",
       "      <th>0</th>\n",
       "      <td>2015</td>\n",
       "      <td>automatic</td>\n",
       "      <td>ca</td>\n",
       "      <td>kia motors america  inc</td>\n",
       "      <td>20500.0</td>\n",
       "      <td>21500.0</td>\n",
       "    </tr>\n",
       "    <tr>\n",
       "      <th>1</th>\n",
       "      <td>2015</td>\n",
       "      <td>automatic</td>\n",
       "      <td>ca</td>\n",
       "      <td>kia motors america  inc</td>\n",
       "      <td>20800.0</td>\n",
       "      <td>21500.0</td>\n",
       "    </tr>\n",
       "    <tr>\n",
       "      <th>2</th>\n",
       "      <td>2014</td>\n",
       "      <td>automatic</td>\n",
       "      <td>ca</td>\n",
       "      <td>financial services remarketing (lease)</td>\n",
       "      <td>31900.0</td>\n",
       "      <td>30000.0</td>\n",
       "    </tr>\n",
       "    <tr>\n",
       "      <th>3</th>\n",
       "      <td>2015</td>\n",
       "      <td>automatic</td>\n",
       "      <td>ca</td>\n",
       "      <td>volvo na rep/world omni</td>\n",
       "      <td>27500.0</td>\n",
       "      <td>27750.0</td>\n",
       "    </tr>\n",
       "    <tr>\n",
       "      <th>4</th>\n",
       "      <td>2014</td>\n",
       "      <td>automatic</td>\n",
       "      <td>ca</td>\n",
       "      <td>financial services remarketing (lease)</td>\n",
       "      <td>66000.0</td>\n",
       "      <td>67000.0</td>\n",
       "    </tr>\n",
       "    <tr>\n",
       "      <th>...</th>\n",
       "      <td>...</td>\n",
       "      <td>...</td>\n",
       "      <td>...</td>\n",
       "      <td>...</td>\n",
       "      <td>...</td>\n",
       "      <td>...</td>\n",
       "    </tr>\n",
       "    <tr>\n",
       "      <th>558831</th>\n",
       "      <td>2011</td>\n",
       "      <td>automatic</td>\n",
       "      <td>fl</td>\n",
       "      <td>lauderdale imports ltd bmw pembrok pines</td>\n",
       "      <td>20300.0</td>\n",
       "      <td>22800.0</td>\n",
       "    </tr>\n",
       "    <tr>\n",
       "      <th>558833</th>\n",
       "      <td>2012</td>\n",
       "      <td>automatic</td>\n",
       "      <td>wa</td>\n",
       "      <td>i -5 uhlmann rv</td>\n",
       "      <td>30200.0</td>\n",
       "      <td>30800.0</td>\n",
       "    </tr>\n",
       "    <tr>\n",
       "      <th>558834</th>\n",
       "      <td>2012</td>\n",
       "      <td>automatic</td>\n",
       "      <td>ca</td>\n",
       "      <td>financial services remarketing (lease)</td>\n",
       "      <td>29800.0</td>\n",
       "      <td>34000.0</td>\n",
       "    </tr>\n",
       "    <tr>\n",
       "      <th>558835</th>\n",
       "      <td>2015</td>\n",
       "      <td>automatic</td>\n",
       "      <td>ga</td>\n",
       "      <td>enterprise vehicle exchange / tra / rental / t...</td>\n",
       "      <td>15100.0</td>\n",
       "      <td>11100.0</td>\n",
       "    </tr>\n",
       "    <tr>\n",
       "      <th>558836</th>\n",
       "      <td>2014</td>\n",
       "      <td>automatic</td>\n",
       "      <td>ca</td>\n",
       "      <td>ford motor credit company llc pd</td>\n",
       "      <td>29600.0</td>\n",
       "      <td>26700.0</td>\n",
       "    </tr>\n",
       "  </tbody>\n",
       "</table>\n",
       "<p>493448 rows × 6 columns</p>\n",
       "</div>"
      ],
      "text/plain": [
       "        year transmission state  \\\n",
       "0       2015    automatic    ca   \n",
       "1       2015    automatic    ca   \n",
       "2       2014    automatic    ca   \n",
       "3       2015    automatic    ca   \n",
       "4       2014    automatic    ca   \n",
       "...      ...          ...   ...   \n",
       "558831  2011    automatic    fl   \n",
       "558833  2012    automatic    wa   \n",
       "558834  2012    automatic    ca   \n",
       "558835  2015    automatic    ga   \n",
       "558836  2014    automatic    ca   \n",
       "\n",
       "                                                   seller      mmr  \\\n",
       "0                                 kia motors america  inc  20500.0   \n",
       "1                                 kia motors america  inc  20800.0   \n",
       "2                  financial services remarketing (lease)  31900.0   \n",
       "3                                 volvo na rep/world omni  27500.0   \n",
       "4                  financial services remarketing (lease)  66000.0   \n",
       "...                                                   ...      ...   \n",
       "558831           lauderdale imports ltd bmw pembrok pines  20300.0   \n",
       "558833                                    i -5 uhlmann rv  30200.0   \n",
       "558834             financial services remarketing (lease)  29800.0   \n",
       "558835  enterprise vehicle exchange / tra / rental / t...  15100.0   \n",
       "558836                   ford motor credit company llc pd  29600.0   \n",
       "\n",
       "        sellingprice  \n",
       "0            21500.0  \n",
       "1            21500.0  \n",
       "2            30000.0  \n",
       "3            27750.0  \n",
       "4            67000.0  \n",
       "...              ...  \n",
       "558831       22800.0  \n",
       "558833       30800.0  \n",
       "558834       34000.0  \n",
       "558835       11100.0  \n",
       "558836       26700.0  \n",
       "\n",
       "[493448 rows x 6 columns]"
      ]
     },
     "execution_count": 14,
     "metadata": {},
     "output_type": "execute_result"
    }
   ],
   "source": [
    "#code\n",
    "df.dropna()"
   ]
  },
  {
   "cell_type": "markdown",
   "id": "34c18a0f",
   "metadata": {},
   "source": [
    "#### When we dropped the rows with null values,  the 'state' column was cleaned by removing the rows which have nonsensical values. Futher cleaning includes droping rows which belong to Canada since this project focuses on US states."
   ]
  },
  {
   "cell_type": "code",
   "execution_count": 15,
   "id": "91c26148",
   "metadata": {},
   "outputs": [
    {
     "data": {
      "text/plain": [
       "array(['ca', 'tx', 'pa', 'mn', 'az', 'wi', 'tn', 'md', 'fl', 'ne', 'nj',\n",
       "       'nv', 'oh', 'mi', 'ga', 'va', 'sc', 'nc', 'in', 'il', 'co', 'ut',\n",
       "       'mo', 'ny', 'ma', 'pr', 'or', 'la', 'wa', 'hi', 'qc', 'ab', 'on',\n",
       "       'ok', 'ms', 'nm', 'al', 'ns'], dtype=object)"
      ]
     },
     "execution_count": 15,
     "metadata": {},
     "output_type": "execute_result"
    }
   ],
   "source": [
    "df['state'].unique()\n",
    "#df['state'].describe()"
   ]
  },
  {
   "cell_type": "markdown",
   "id": "2e5b2076",
   "metadata": {},
   "source": [
    "usa: ALABAMA -AL\n",
    "ALASKA \t-AK\n",
    "ARIZONA -AZ\n",
    "CALIFORNIA -CA\n",
    "COLORADO -CO\n",
    "FLORIDA -FL\n",
    "GEORGIA -GA\n",
    "HAWAII- HI\n",
    "ILLINOIS -IL\n",
    "INDIANA -IN\n",
    "LOUISIANA -LA\n",
    "MARYLAND -MD\n",
    "MASSACHUSETTS -MA\n",
    "MICHIGAN -MI\n",
    "MINNESOTA -MN\n",
    "MISSISSIPPI -MS\n",
    "MISSOURI -MO\n",
    "NEVADA -NV\n",
    "NEW JERSEY -NJ\n",
    "NEW MEXICO -NM\n",
    "NEW YORK -NY\n",
    "NORTH CAROLINA -NC\n",
    "OHIO -OH\n",
    "OKLAHOMA -OK\n",
    "OREGON -OR\n",
    "PENNSYLVANIA -PA\n",
    "PUERTO RICO-PR \n",
    "SOUTH CAROLINA -SC\n",
    "TENNESSEE -TN\n",
    "TEXAS -TX\n",
    "UTAH- UT\n",
    "VIRGINIA -VA\n",
    "WASHINGTON -WA\n",
    "WISCONSIN -WI\n",
    "\n",
    "canada: QUEBEC-QC, ALBERTA-AB, ONTARIO-ON"
   ]
  },
  {
   "cell_type": "code",
   "execution_count": 16,
   "id": "b1ee9525",
   "metadata": {},
   "outputs": [],
   "source": [
    "df.drop(df.loc[df['state']==\"qc\"].index, inplace=True)\n",
    "df.drop(df.loc[df['state']==\"ab\"].index, inplace=True)\n",
    "df.drop(df.loc[df['state']==\"on\"].index, inplace=True)"
   ]
  },
  {
   "cell_type": "code",
   "execution_count": 17,
   "id": "f3ce4c6c",
   "metadata": {},
   "outputs": [
    {
     "data": {
      "text/plain": [
       "count     553196\n",
       "unique        35\n",
       "top           fl\n",
       "freq       82945\n",
       "Name: state, dtype: object"
      ]
     },
     "execution_count": 17,
     "metadata": {},
     "output_type": "execute_result"
    }
   ],
   "source": [
    "#df['state'].unique()\n",
    "df['state'].describe()"
   ]
  },
  {
   "cell_type": "code",
   "execution_count": 18,
   "id": "92c68df7",
   "metadata": {},
   "outputs": [
    {
     "name": "stdout",
     "output_type": "stream",
     "text": [
      "<class 'pandas.core.frame.DataFrame'>\n",
      "Index: 553196 entries, 0 to 558836\n",
      "Data columns (total 6 columns):\n",
      " #   Column        Non-Null Count   Dtype  \n",
      "---  ------        --------------   -----  \n",
      " 0   year          553196 non-null  int64  \n",
      " 1   transmission  493459 non-null  object \n",
      " 2   state         553196 non-null  object \n",
      " 3   seller        553196 non-null  object \n",
      " 4   mmr           553184 non-null  float64\n",
      " 5   sellingprice  553184 non-null  float64\n",
      "dtypes: float64(2), int64(1), object(3)\n",
      "memory usage: 29.5+ MB\n"
     ]
    }
   ],
   "source": [
    "df.info()"
   ]
  },
  {
   "cell_type": "markdown",
   "id": "a2b0008a",
   "metadata": {},
   "source": [
    "# Working With the Data: Separating by State"
   ]
  },
  {
   "cell_type": "markdown",
   "id": "ee9eca62",
   "metadata": {},
   "source": [
    "#### We used a dictionary to store the dataframes for each state; the state is the key. The states are stored in an array which we iterate over to filter the rows with the common states and store in a dataframe. A dictionary was used because it is a collection which is ordered and changeable with no duplicate members. The most important ascpect to us is the \"no duplicates\", if there were duplicates then we would have incorrect statistics. Sets also allows for the \"no duplicate\" feature however we thought that having that 'key' aspect from using a dictionary more useful for this solution."
   ]
  },
  {
   "cell_type": "code",
   "execution_count": 19,
   "id": "b38c6265",
   "metadata": {},
   "outputs": [],
   "source": [
    "state_dfs = {}\n",
    "states = ['ca', 'tx', 'pa', 'mn', 'az', 'wi', 'tn', 'md', 'fl', 'ne', 'nj','nv', 'oh', 'mi', 'ga', 'va', 'sc', 'nc', \n",
    "          'in', 'il', 'co', 'ut','mo', 'ny', 'ma', 'pr', 'or', 'la', 'wa', 'hi', 'ok', 'ms', 'nm', 'al', 'ns']\n",
    "\n",
    "for state in states:\n",
    "    state_df = df.loc[df['state'] == state]\n",
    "    state_dfs[state] = state_df"
   ]
  },
  {
   "cell_type": "markdown",
   "id": "b2509cd1",
   "metadata": {},
   "source": [
    "# Grouping by dealerships, finding mean, determining best seller for each state, storing in dataframe"
   ]
  },
  {
   "cell_type": "markdown",
   "id": "d42a3c32",
   "metadata": {},
   "source": [
    "#### Created a dataframe 'results' to hold the dealership with the lowest prices in each state. Stored each state in their own dataframe for easier manipulation on our path; then for each state we used groupby() to get a total selling price for each unique seller in the dataframe. From this we determined the mean for each seller and used the minimum mean value to justify the seller as a the one with the lowest prices. "
   ]
  },
  {
   "cell_type": "code",
   "execution_count": 20,
   "id": "e25f9e6f",
   "metadata": {},
   "outputs": [],
   "source": [
    "results = pd.DataFrame(columns=['state','dealership','lowest_price_mean'])\n",
    "\n",
    "for state in states:\n",
    "    df2 = state_dfs[state]\n",
    "    total_sellingprice = df2['sellingprice'].groupby(df2['seller']) \n",
    "    df2 = total_sellingprice.mean()\n",
    "    lowest_deal = df2.min() \n",
    "    dealer = df2.idxmin()\n",
    "    results.loc[len(results.index)] = [state, dealer, lowest_deal]\n",
    "    #print(state, dealer, lowest_deal)"
   ]
  },
  {
   "cell_type": "code",
   "execution_count": 21,
   "id": "39865934",
   "metadata": {},
   "outputs": [
    {
     "name": "stdout",
     "output_type": "stream",
     "text": [
      "<class 'pandas.core.frame.DataFrame'>\n",
      "Index: 35 entries, 0 to 34\n",
      "Data columns (total 3 columns):\n",
      " #   Column             Non-Null Count  Dtype  \n",
      "---  ------             --------------  -----  \n",
      " 0   state              35 non-null     object \n",
      " 1   dealership         35 non-null     object \n",
      " 2   lowest_price_mean  35 non-null     float64\n",
      "dtypes: float64(1), object(2)\n",
      "memory usage: 1.1+ KB\n"
     ]
    }
   ],
   "source": [
    "results.info()"
   ]
  },
  {
   "cell_type": "code",
   "execution_count": null,
   "id": "7447977a",
   "metadata": {},
   "outputs": [],
   "source": []
  }
 ],
 "metadata": {
  "kernelspec": {
   "display_name": "Python 3 (ipykernel)",
   "language": "python",
   "name": "python3"
  },
  "language_info": {
   "codemirror_mode": {
    "name": "ipython",
    "version": 3
   },
   "file_extension": ".py",
   "mimetype": "text/x-python",
   "name": "python",
   "nbconvert_exporter": "python",
   "pygments_lexer": "ipython3",
   "version": "3.11.5"
  }
 },
 "nbformat": 4,
 "nbformat_minor": 5
}
